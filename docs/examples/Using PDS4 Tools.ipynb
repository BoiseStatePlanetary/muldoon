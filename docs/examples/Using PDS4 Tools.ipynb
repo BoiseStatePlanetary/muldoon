{
 "cells": [
  {
   "cell_type": "code",
   "execution_count": 5,
   "id": "fdcae3e6",
   "metadata": {},
   "outputs": [],
   "source": [
    "%matplotlib inline\n",
    "\n",
    "import numpy as np\n",
    "import matplotlib.pyplot as plt\n",
    "\n",
    "import pds4_tools as pds\n",
    "from astropy.time import Time\n",
    "\n",
    "from muldoon import *\n",
    "from mars_clock.mission_sols import *"
   ]
  },
  {
   "cell_type": "code",
   "execution_count": 3,
   "id": "5cdcfb43",
   "metadata": {},
   "outputs": [
    {
     "name": "stdout",
     "output_type": "stream",
     "text": [
      "Processing label: https://pds-atmospheres.nmsu.edu/PDS/data/PDS4/Mars2020/mars2020_meda/data_derived_env/sol_0180_0299/sol_0299/WE__0299___________DER_WS__________________P01.xml\n",
      "Downloading URL: https://pds-atmospheres.nmsu.edu/PDS/data/PDS4/Mars2020/mars2020_meda/data_derived_env/sol_0180_0299/sol_0299/WE__0299___________DER_WS__________________P01.xml ... done\n",
      "Now processing a Header structure: HEADER\n",
      "Downloading URL: https://pds-atmospheres.nmsu.edu/PDS/data/PDS4/Mars2020/mars2020_meda/data_derived_env/sol_0180_0299/sol_0299/WE__0299___________DER_WS__________________P01.CSV ... done\n",
      "Now processing a Table_Delimited structure: TABLE\n"
     ]
    }
   ],
   "source": [
    "# Example WS file\n",
    "link = \"https://pds-atmospheres.nmsu.edu/PDS/data/PDS4/Mars2020/mars2020_meda/data_derived_env/sol_0180_0299/sol_0299/WE__0299___________DER_WS__________________P01.xml\"\n",
    "\n",
    "structures = pds.read(link)"
   ]
  },
  {
   "cell_type": "code",
   "execution_count": 20,
   "id": "a29dc648",
   "metadata": {},
   "outputs": [
    {
     "name": "stdout",
     "output_type": "stream",
     "text": [
      "Fields for Table_Delimited 'TABLE' (11 fields x 15385 records): \n",
      "\n",
      "SCLK\n",
      "LMST\n",
      "LTST\n",
      "HORIZONTAL_WIND_SPEED\n",
      "HORIZONTAL_WIND_SPEED_UNCERTAINTY\n",
      "VERTICAL_WIND_SPEED\n",
      "VERTICAL_WIND_SPEED_UNCERTAINTY\n",
      "WIND_DIRECTION\n",
      "WIND_DIRECTION_UNCERTAINTY\n",
      "BOTH_BOOMS_USED_FOR_RETRIEVAL\n",
      "ROVER_STILL\n",
      "None\n"
     ]
    }
   ],
   "source": [
    "print(structures['TABLE'].info())"
   ]
  },
  {
   "cell_type": "code",
   "execution_count": 46,
   "id": "33e0cd5c",
   "metadata": {},
   "outputs": [
    {
     "name": "stdout",
     "output_type": "stream",
     "text": [
      "['00299M00:00:29.470' '00299M00:00:30.444' '00299M00:00:31.417' ...\n",
      " '00299M13:46:44.006' '00299M13:46:44.979' '00299M14:05:10.593']\n"
     ]
    }
   ],
   "source": [
    "ind = structures['TABLE'].field('HORIZONTAL_WIND_SPEED') != 999999999\n",
    "print(structures['TABLE'].field('LMST'))\n",
    "# x = structures['TABLE'].field('LMST')[ind]\n",
    "# y = structures['TABLE'].field('HORIZONTAL_WIND_SPEED')[ind]\n",
    "\n",
    "# plt.plot(x, y)"
   ]
  },
  {
   "cell_type": "code",
   "execution_count": 43,
   "id": "8a37ab16",
   "metadata": {},
   "outputs": [
    {
     "name": "stdout",
     "output_type": "stream",
     "text": [
      "OrderedDict([('jd', <class 'astropy.time.formats.TimeJD'>), ('mjd', <class 'astropy.time.formats.TimeMJD'>), ('decimalyear', <class 'astropy.time.formats.TimeDecimalYear'>), ('unix', <class 'astropy.time.formats.TimeUnix'>), ('unix_tai', <class 'astropy.time.formats.TimeUnixTai'>), ('cxcsec', <class 'astropy.time.formats.TimeCxcSec'>), ('gps', <class 'astropy.time.formats.TimeGPS'>), ('plot_date', <class 'astropy.time.formats.TimePlotDate'>), ('stardate', <class 'astropy.time.formats.TimeStardate'>), ('datetime', <class 'astropy.time.formats.TimeDatetime'>), ('ymdhms', <class 'astropy.time.formats.TimeYMDHMS'>), ('iso', <class 'astropy.time.formats.TimeISO'>), ('isot', <class 'astropy.time.formats.TimeISOT'>), ('yday', <class 'astropy.time.formats.TimeYearDayTime'>), ('datetime64', <class 'astropy.time.formats.TimeDatetime64'>), ('fits', <class 'astropy.time.formats.TimeFITS'>), ('byear', <class 'astropy.time.formats.TimeBesselianEpoch'>), ('jyear', <class 'astropy.time.formats.TimeJulianEpoch'>), ('byear_str', <class 'astropy.time.formats.TimeBesselianEpochString'>), ('jyear_str', <class 'astropy.time.formats.TimeJulianEpochString'>)])\n"
     ]
    }
   ],
   "source": [
    "# Can I make astropy times directly from LMST?\n",
    "print(Time.FORMATS)"
   ]
  },
  {
   "cell_type": "code",
   "execution_count": 17,
   "id": "3fc31ed1",
   "metadata": {},
   "outputs": [
    {
     "name": "stdout",
     "output_type": "stream",
     "text": [
      "2021-02-18 20:55:00.000\n",
      "2021-12-14 20:55:00.000\n"
     ]
    }
   ],
   "source": [
    "test_time = structures['TABLE'].field('LMST')[0]\n",
    "mission_sol, time = structures['TABLE'].field('LMST')[0].split(\"M\")\n",
    "hours, minutes, seconds = time.split(\":\")\n",
    "# print(hours, minutes, seconds)\n",
    "# print(time)\n",
    "\n",
    "# Convert mission sol to date\n",
    "print(mission_landing_dates[\"Mars 2020\"][\"landing_date\"])\n",
    "print(mission_landing_dates[\"Mars 2020\"][\"landing_date\"] + mission_sol)\n",
    "\n",
    "# # astropy_time = Time(time, format=\"isot\")\n",
    "# print(mission_sol, time)"
   ]
  },
  {
   "cell_type": "markdown",
   "id": "7cf62e6a",
   "metadata": {},
   "source": [
    "Really does NOT look like I can use Astropy.Time for my purposes..."
   ]
  }
 ],
 "metadata": {
  "kernelspec": {
   "display_name": "Python 3",
   "language": "python",
   "name": "python3"
  },
  "language_info": {
   "codemirror_mode": {
    "name": "ipython",
    "version": 3
   },
   "file_extension": ".py",
   "mimetype": "text/x-python",
   "name": "python",
   "nbconvert_exporter": "python",
   "pygments_lexer": "ipython3",
   "version": "3.9.6"
  }
 },
 "nbformat": 4,
 "nbformat_minor": 5
}
