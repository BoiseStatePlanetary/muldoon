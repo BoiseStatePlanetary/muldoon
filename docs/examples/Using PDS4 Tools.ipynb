{
 "cells": [
  {
   "cell_type": "code",
   "execution_count": 23,
   "id": "7ed700ca",
   "metadata": {},
   "outputs": [],
   "source": [
    "%matplotlib inline\n",
    "\n",
    "import numpy as np\n",
    "import matplotlib.pyplot as plt\n",
    "\n",
    "import pds4_tools as pds"
   ]
  },
  {
   "cell_type": "code",
   "execution_count": 13,
   "id": "5a9844f9",
   "metadata": {},
   "outputs": [
    {
     "name": "stdout",
     "output_type": "stream",
     "text": [
      "Processing label: https://pds-atmospheres.nmsu.edu/PDS/data/PDS4/Mars2020/mars2020_meda/data_derived_env/sol_0180_0299/sol_0299/WE__0299___________DER_WS__________________P01.xml\n",
      "Now processing a Header structure: HEADER\n",
      "Now processing a Table_Delimited structure: TABLE\n",
      "Warning: Detected IPython with module://matplotlib_inline.backend_inline backend initialized. PDS4 Viewer requires a TK backend. \n",
      "If PDS4 Viewer will not open, follow the steps below: \n",
      "  1) Avoid %matplotlib or %gui statements prior running PDS4 Viewer. \n",
      "  2) If issue persists, use ipython --quick to skip loading config files.\n",
      "Processing label: https://pds-atmospheres.nmsu.edu/PDS/data/PDS4/Mars2020/mars2020_meda/data_derived_env/sol_0180_0299/sol_0299/WE__0299___________DER_WS__________________P01.xml\n",
      "Found a Header structure: HEADER\n",
      "Found a Table_Delimited structure: TABLE\n",
      "Now processing a Table_Delimited structure: TABLE\n"
     ]
    }
   ],
   "source": [
    "# Example WS file\n",
    "link = \"https://pds-atmospheres.nmsu.edu/PDS/data/PDS4/Mars2020/mars2020_meda/data_derived_env/sol_0180_0299/sol_0299/WE__0299___________DER_WS__________________P01.xml\"\n",
    "\n",
    "structures = pds.read(link)"
   ]
  },
  {
   "cell_type": "code",
   "execution_count": 20,
   "id": "96a669dc",
   "metadata": {},
   "outputs": [
    {
     "name": "stdout",
     "output_type": "stream",
     "text": [
      "Fields for Table_Delimited 'TABLE' (11 fields x 15385 records): \n",
      "\n",
      "SCLK\n",
      "LMST\n",
      "LTST\n",
      "HORIZONTAL_WIND_SPEED\n",
      "HORIZONTAL_WIND_SPEED_UNCERTAINTY\n",
      "VERTICAL_WIND_SPEED\n",
      "VERTICAL_WIND_SPEED_UNCERTAINTY\n",
      "WIND_DIRECTION\n",
      "WIND_DIRECTION_UNCERTAINTY\n",
      "BOTH_BOOMS_USED_FOR_RETRIEVAL\n",
      "ROVER_STILL\n",
      "None\n"
     ]
    }
   ],
   "source": [
    "print(structures['TABLE'].info())"
   ]
  },
  {
   "cell_type": "code",
   "execution_count": 37,
   "id": "409aae7a",
   "metadata": {},
   "outputs": [
    {
     "name": "stdout",
     "output_type": "stream",
     "text": [
      "['00299M00:00:29.470' '00299M00:00:30.444' '00299M00:00:31.417' ...\n",
      " '00299M13:46:44.006' '00299M13:46:44.979' '00299M14:05:10.593']\n"
     ]
    }
   ],
   "source": [
    "ind = structures['TABLE'].field('HORIZONTAL_WIND_SPEED') != 999999999\n",
    "print(structures['TABLE'].field('LMST'))\n",
    "# x = structures['TABLE'].field('LMST')[ind]\n",
    "# y = structures['TABLE'].field('HORIZONTAL_WIND_SPEED')[ind]\n",
    "\n",
    "# plt.plot(x, y)"
   ]
  }
 ],
 "metadata": {
  "kernelspec": {
   "display_name": "Python 3",
   "language": "python",
   "name": "python3"
  },
  "language_info": {
   "codemirror_mode": {
    "name": "ipython",
    "version": 3
   },
   "file_extension": ".py",
   "mimetype": "text/x-python",
   "name": "python",
   "nbconvert_exporter": "python",
   "pygments_lexer": "ipython3",
   "version": "3.9.6"
  }
 },
 "nbformat": 4,
 "nbformat_minor": 5
}
